{
 "cells": [
  {
   "cell_type": "code",
   "execution_count": 28,
   "metadata": {},
   "outputs": [],
   "source": [
    "import sys\n",
    "\n",
    "import uproot # for reading .root files\n",
    "import pandas as pd # to store data as dataframe\n",
    "import time # to measure time to analyse\n",
    "import math # for mathematical functions such as square root\n",
    "import numpy as np # # for numerical calculations such as histogramming\n",
    "import matplotlib.pyplot as plt # for plotting\n",
    "from matplotlib.ticker import AutoMinorLocator # for minor ticks\n",
    "import tensorflow as tf\n",
    "from tensorflow import keras\n",
    "\n",
    "from sklearn.base import BaseEstimator, TransformerMixin, RegressorMixin, clone\n",
    "from sklearn.pipeline import Pipeline\n",
    "from sklearn.preprocessing import StandardScaler\n",
    "\n",
    "from sklearn.ensemble import RandomForestClassifier\n",
    "\n",
    "from sklearn.metrics import accuracy_score\n",
    "from sklearn.metrics import roc_curve, auc\n",
    "\n",
    "import functions"
   ]
  },
  {
   "cell_type": "markdown",
   "metadata": {},
   "source": [
    "# Page 6"
   ]
  },
  {
   "cell_type": "code",
   "execution_count": 29,
   "metadata": {},
   "outputs": [],
   "source": [
    "df = pd.read_pickle('data.pkl')\n",
    "df_train = df.iloc[0:800000]\n",
    "df_test = df.iloc[800000::]"
   ]
  },
  {
   "cell_type": "code",
   "execution_count": 37,
   "metadata": {},
   "outputs": [
    {
     "data": {
      "text/html": [
       "<div>\n",
       "<style scoped>\n",
       "    .dataframe tbody tr th:only-of-type {\n",
       "        vertical-align: middle;\n",
       "    }\n",
       "\n",
       "    .dataframe tbody tr th {\n",
       "        vertical-align: top;\n",
       "    }\n",
       "\n",
       "    .dataframe thead th {\n",
       "        text-align: right;\n",
       "    }\n",
       "</style>\n",
       "<table border=\"1\" class=\"dataframe\">\n",
       "  <thead>\n",
       "    <tr style=\"text-align: right;\">\n",
       "      <th></th>\n",
       "      <th>lep_n</th>\n",
       "      <th>lep_pt</th>\n",
       "      <th>lep_eta</th>\n",
       "      <th>lep_phi</th>\n",
       "      <th>lep_E</th>\n",
       "      <th>lep_charge</th>\n",
       "      <th>lep_type</th>\n",
       "      <th>lep_ptcone30</th>\n",
       "      <th>lep_etcone20</th>\n",
       "      <th>totalWeight</th>\n",
       "      <th>mllll</th>\n",
       "      <th>lep_pt_1</th>\n",
       "      <th>lep_pt_2</th>\n",
       "      <th>type</th>\n",
       "    </tr>\n",
       "    <tr>\n",
       "      <th>entry</th>\n",
       "      <th></th>\n",
       "      <th></th>\n",
       "      <th></th>\n",
       "      <th></th>\n",
       "      <th></th>\n",
       "      <th></th>\n",
       "      <th></th>\n",
       "      <th></th>\n",
       "      <th></th>\n",
       "      <th></th>\n",
       "      <th></th>\n",
       "      <th></th>\n",
       "      <th></th>\n",
       "      <th></th>\n",
       "    </tr>\n",
       "  </thead>\n",
       "  <tbody>\n",
       "    <tr>\n",
       "      <th>122184</th>\n",
       "      <td>4</td>\n",
       "      <td>[115386.75, 68327.055, 55912.14, 46289.973]</td>\n",
       "      <td>[-2.4141972, -1.7635455, -2.0611405, -1.8641573]</td>\n",
       "      <td>[-0.91232985, 1.2147496, 2.8340168, -2.1358066]</td>\n",
       "      <td>[650217.6, 205135.52, 223151.84, 152884.78]</td>\n",
       "      <td>[1, 1, -1, -1]</td>\n",
       "      <td>[11, 11, 11, 11]</td>\n",
       "      <td>[0.0, 0.0, 0.0, 0.0]</td>\n",
       "      <td>[1861.3513, 2816.224, 1838.1691, 368.9771]</td>\n",
       "      <td>0.001820</td>\n",
       "      <td>292.304140</td>\n",
       "      <td>68.327055</td>\n",
       "      <td>55.912141</td>\n",
       "      <td>0</td>\n",
       "    </tr>\n",
       "    <tr>\n",
       "      <th>45301</th>\n",
       "      <td>4</td>\n",
       "      <td>[52015.19, 16996.518, 11595.154, 8811.983]</td>\n",
       "      <td>[-0.92903495, -0.46927732, -1.1208072, -0.1817...</td>\n",
       "      <td>[-0.28204682, -2.7520332, 2.8016145, 3.1268525]</td>\n",
       "      <td>[76124.28, 18902.908, 19673.467, 8958.624]</td>\n",
       "      <td>[-1, 1, -1, 1]</td>\n",
       "      <td>[13, 13, 13, 13]</td>\n",
       "      <td>[0.0, 0.0, 0.0, 0.0]</td>\n",
       "      <td>[823.22644, 176.19177, 371.786, -831.1925]</td>\n",
       "      <td>0.001663</td>\n",
       "      <td>90.419489</td>\n",
       "      <td>16.996518</td>\n",
       "      <td>11.595154</td>\n",
       "      <td>0</td>\n",
       "    </tr>\n",
       "    <tr>\n",
       "      <th>99430</th>\n",
       "      <td>4</td>\n",
       "      <td>[59973.15, 42322.973, 13036.398, 9584.969]</td>\n",
       "      <td>[-1.4100251, -2.1813457, -2.198997, -1.236703]</td>\n",
       "      <td>[1.9874572, -2.1674008, -0.12135019, 1.7154149]</td>\n",
       "      <td>[130147.63, 189842.02, 59490.918, 17898.225]</td>\n",
       "      <td>[-1, 1, -1, 1]</td>\n",
       "      <td>[13, 13, 13, 13]</td>\n",
       "      <td>[0.0, 1553.7449, 0.0, 0.0]</td>\n",
       "      <td>[-214.75171, -70.97525, 1841.9778, -115.00061]</td>\n",
       "      <td>0.000077</td>\n",
       "      <td>127.022912</td>\n",
       "      <td>42.322973</td>\n",
       "      <td>13.036398</td>\n",
       "      <td>1</td>\n",
       "    </tr>\n",
       "    <tr>\n",
       "      <th>167953</th>\n",
       "      <td>4</td>\n",
       "      <td>[52327.11, 50149.164, 39719.863, 36806.33]</td>\n",
       "      <td>[1.0194854, -0.6720537, -0.27007684, 0.6950957]</td>\n",
       "      <td>[-2.2804918, -1.2961419, 2.0781178, 1.0791849]</td>\n",
       "      <td>[81958.67, 61906.977, 41177.305, 46061.906]</td>\n",
       "      <td>[-1, 1, -1, 1]</td>\n",
       "      <td>[13, 11, 11, 13]</td>\n",
       "      <td>[0.0, 0.0, 0.0, 0.0]</td>\n",
       "      <td>[-1017.5383, -42.100677, 4.2281494, -452.41992]</td>\n",
       "      <td>0.000200</td>\n",
       "      <td>224.881655</td>\n",
       "      <td>50.149164</td>\n",
       "      <td>39.719863</td>\n",
       "      <td>0</td>\n",
       "    </tr>\n",
       "    <tr>\n",
       "      <th>24358</th>\n",
       "      <td>4</td>\n",
       "      <td>[71476.64, 49188.074, 10618.092, 10553.615]</td>\n",
       "      <td>[-0.8086124, -1.465419, -0.35426486, -1.9112123]</td>\n",
       "      <td>[2.1955068, -2.5806403, -0.70600003, 1.9758896]</td>\n",
       "      <td>[96145.67, 112157.18, 11291.394, 36458.42]</td>\n",
       "      <td>[1, -1, -1, 1]</td>\n",
       "      <td>[13, 13, 11, 11]</td>\n",
       "      <td>[1169.696, 0.0, 0.0, 0.0]</td>\n",
       "      <td>[682.84155, -1131.4159, -670.21173, 839.6236]</td>\n",
       "      <td>0.000003</td>\n",
       "      <td>128.408689</td>\n",
       "      <td>49.188074</td>\n",
       "      <td>10.618092</td>\n",
       "      <td>1</td>\n",
       "    </tr>\n",
       "  </tbody>\n",
       "</table>\n",
       "</div>"
      ],
      "text/plain": [
       "        lep_n                                       lep_pt  \\\n",
       "entry                                                        \n",
       "122184      4  [115386.75, 68327.055, 55912.14, 46289.973]   \n",
       "45301       4   [52015.19, 16996.518, 11595.154, 8811.983]   \n",
       "99430       4   [59973.15, 42322.973, 13036.398, 9584.969]   \n",
       "167953      4   [52327.11, 50149.164, 39719.863, 36806.33]   \n",
       "24358       4  [71476.64, 49188.074, 10618.092, 10553.615]   \n",
       "\n",
       "                                                  lep_eta  \\\n",
       "entry                                                       \n",
       "122184   [-2.4141972, -1.7635455, -2.0611405, -1.8641573]   \n",
       "45301   [-0.92903495, -0.46927732, -1.1208072, -0.1817...   \n",
       "99430      [-1.4100251, -2.1813457, -2.198997, -1.236703]   \n",
       "167953    [1.0194854, -0.6720537, -0.27007684, 0.6950957]   \n",
       "24358    [-0.8086124, -1.465419, -0.35426486, -1.9112123]   \n",
       "\n",
       "                                                lep_phi  \\\n",
       "entry                                                     \n",
       "122184  [-0.91232985, 1.2147496, 2.8340168, -2.1358066]   \n",
       "45301   [-0.28204682, -2.7520332, 2.8016145, 3.1268525]   \n",
       "99430   [1.9874572, -2.1674008, -0.12135019, 1.7154149]   \n",
       "167953   [-2.2804918, -1.2961419, 2.0781178, 1.0791849]   \n",
       "24358   [2.1955068, -2.5806403, -0.70600003, 1.9758896]   \n",
       "\n",
       "                                               lep_E      lep_charge  \\\n",
       "entry                                                                  \n",
       "122184   [650217.6, 205135.52, 223151.84, 152884.78]  [1, 1, -1, -1]   \n",
       "45301     [76124.28, 18902.908, 19673.467, 8958.624]  [-1, 1, -1, 1]   \n",
       "99430   [130147.63, 189842.02, 59490.918, 17898.225]  [-1, 1, -1, 1]   \n",
       "167953   [81958.67, 61906.977, 41177.305, 46061.906]  [-1, 1, -1, 1]   \n",
       "24358     [96145.67, 112157.18, 11291.394, 36458.42]  [1, -1, -1, 1]   \n",
       "\n",
       "                lep_type                lep_ptcone30  \\\n",
       "entry                                                  \n",
       "122184  [11, 11, 11, 11]        [0.0, 0.0, 0.0, 0.0]   \n",
       "45301   [13, 13, 13, 13]        [0.0, 0.0, 0.0, 0.0]   \n",
       "99430   [13, 13, 13, 13]  [0.0, 1553.7449, 0.0, 0.0]   \n",
       "167953  [13, 11, 11, 13]        [0.0, 0.0, 0.0, 0.0]   \n",
       "24358   [13, 13, 11, 11]   [1169.696, 0.0, 0.0, 0.0]   \n",
       "\n",
       "                                           lep_etcone20  totalWeight  \\\n",
       "entry                                                                  \n",
       "122184       [1861.3513, 2816.224, 1838.1691, 368.9771]     0.001820   \n",
       "45301        [823.22644, 176.19177, 371.786, -831.1925]     0.001663   \n",
       "99430    [-214.75171, -70.97525, 1841.9778, -115.00061]     0.000077   \n",
       "167953  [-1017.5383, -42.100677, 4.2281494, -452.41992]     0.000200   \n",
       "24358     [682.84155, -1131.4159, -670.21173, 839.6236]     0.000003   \n",
       "\n",
       "             mllll   lep_pt_1   lep_pt_2  type  \n",
       "entry                                           \n",
       "122184  292.304140  68.327055  55.912141     0  \n",
       "45301    90.419489  16.996518  11.595154     0  \n",
       "99430   127.022912  42.322973  13.036398     1  \n",
       "167953  224.881655  50.149164  39.719863     0  \n",
       "24358   128.408689  49.188074  10.618092     1  "
      ]
     },
     "execution_count": 37,
     "metadata": {},
     "output_type": "execute_result"
    }
   ],
   "source": [
    "df.head()"
   ]
  },
  {
   "cell_type": "code",
   "execution_count": 41,
   "metadata": {},
   "outputs": [
    {
     "data": {
      "text/plain": [
       "array([[ 0.57023955,  1.36370524,  0.77279159],\n",
       "       [-1.00792607, -0.99984536, -0.81445341],\n",
       "       [-0.22926013, -0.92297972, -0.52667224],\n",
       "       ...,\n",
       "       [-0.27820319,  0.33155839, -0.55409991],\n",
       "       [ 2.01216741, -0.69342999, -0.55136036],\n",
       "       [-0.52985323, -0.23842974, -0.54466061]])"
      ]
     },
     "execution_count": 41,
     "metadata": {},
     "output_type": "execute_result"
    }
   ],
   "source": [
    "class DataFrameSelector(BaseEstimator, TransformerMixin):\n",
    "    def __init__(self, attribute_names):\n",
    "        self.attribute_names = attribute_names\n",
    "    def fit(self, X, y=None):\n",
    "        return self\n",
    "    def transform(self, X):\n",
    "        return X[self.attribute_names].values\n",
    "\n",
    "# Specify columns used for training\n",
    "num_attribs = ['lep_pt_1', 'lep_pt_2', 'mllll']\n",
    "full_pipeline = Pipeline([\n",
    "    ('selector', DataFrameSelector(num_attribs)),\n",
    "    ('std_scaler', StandardScaler())\n",
    "])\n",
    "\n",
    "\n",
    "X_train = full_pipeline.fit_transform(df_train)\n",
    "y_train = df_train['type'].values\n",
    "\n",
    "X_test = full_pipeline.transform(df_test)\n",
    "y_test = df_test['type'].values\n",
    "\n",
    "X_train"
   ]
  },
  {
   "cell_type": "markdown",
   "metadata": {},
   "source": [
    "# Page 7"
   ]
  },
  {
   "cell_type": "markdown",
   "metadata": {},
   "source": [
    "Now prepare data for neural network binary classifier."
   ]
  },
  {
   "cell_type": "code",
   "execution_count": 42,
   "metadata": {},
   "outputs": [
    {
     "data": {
      "text/plain": [
       "RandomForestClassifier(bootstrap=True, ccp_alpha=0.0, class_weight=None,\n",
       "                       criterion='gini', max_depth=8, max_features='auto',\n",
       "                       max_leaf_nodes=None, max_samples=None,\n",
       "                       min_impurity_decrease=0.0, min_impurity_split=None,\n",
       "                       min_samples_leaf=1, min_samples_split=2,\n",
       "                       min_weight_fraction_leaf=0.0, n_estimators=30,\n",
       "                       n_jobs=None, oob_score=False, random_state=None,\n",
       "                       verbose=0, warm_start=False)"
      ]
     },
     "execution_count": 42,
     "metadata": {},
     "output_type": "execute_result"
    }
   ],
   "source": [
    "RF_clf = RandomForestClassifier(criterion='gini', max_depth=8, n_estimators=30)\n",
    "RF_clf.fit(X_train, y_train)"
   ]
  },
  {
   "cell_type": "code",
   "execution_count": 43,
   "metadata": {},
   "outputs": [
    {
     "name": "stdout",
     "output_type": "stream",
     "text": [
      "0.9708020878444601\n"
     ]
    }
   ],
   "source": [
    "y_pred = RF_clf.predict(X_test)\n",
    "print(accuracy_score(y_test, y_pred))"
   ]
  },
  {
   "cell_type": "markdown",
   "metadata": {},
   "source": [
    "Neural network"
   ]
  },
  {
   "cell_type": "code",
   "execution_count": 44,
   "metadata": {},
   "outputs": [
    {
     "name": "stdout",
     "output_type": "stream",
     "text": [
      "Train on 800000 samples, validate on 700000 samples\n",
      "Epoch 1/5\n",
      "800000/800000 [==============================] - 30s 37us/sample - loss: 0.4536 - accuracy: 0.8143 - val_loss: 0.3719 - val_accuracy: 0.8575\n",
      "Epoch 2/5\n",
      "800000/800000 [==============================] - 31s 38us/sample - loss: 0.3437 - accuracy: 0.8617 - val_loss: 0.3245 - val_accuracy: 0.8637\n",
      "Epoch 3/5\n",
      "800000/800000 [==============================] - 30s 37us/sample - loss: 0.3134 - accuracy: 0.8640 - val_loss: 0.3050 - val_accuracy: 0.8643\n",
      "Epoch 4/5\n",
      "800000/800000 [==============================] - 30s 37us/sample - loss: 0.2988 - accuracy: 0.8644 - val_loss: 0.2927 - val_accuracy: 0.8647\n",
      "Epoch 5/5\n",
      "800000/800000 [==============================] - 29s 37us/sample - loss: 0.2859 - accuracy: 0.8645 - val_loss: 0.2784 - val_accuracy: 0.8642\n"
     ]
    },
    {
     "data": {
      "text/plain": [
       "<tensorflow.python.keras.callbacks.History at 0x7f434871b160>"
      ]
     },
     "execution_count": 44,
     "metadata": {},
     "output_type": "execute_result"
    }
   ],
   "source": [
    "def build_model(n_hidden=1, n_neurons=5, learning_rate=1e-3):\n",
    "    # Build\n",
    "    model = keras.models.Sequential()\n",
    "    for layer in range(n_hidden):\n",
    "        model.add(keras.layers.Dense(n_neurons, activation=\"relu\"))\n",
    "    model.add(keras.layers.Dense(2, activation='softmax'))\n",
    "    # Compile\n",
    "    optimizer = keras.optimizers.SGD(lr=learning_rate)\n",
    "    model.compile(loss='sparse_categorical_crossentropy', optimizer=optimizer, metrics=['accuracy'])\n",
    "    return model\n",
    "\n",
    "X_valid, X_train_nn = X_train[:700000], X_train[700000:]\n",
    "y_valid, y_train_nn = y_train[:700000], y_train[700000:]\n",
    "\n",
    "NN_clf = keras.wrappers.scikit_learn.KerasClassifier(build_model)\n",
    "NN_clf.fit(X_train, y_train, validation_data=(X_valid, y_valid), epochs=5)"
   ]
  },
  {
   "cell_type": "markdown",
   "metadata": {},
   "source": [
    "# Page 8"
   ]
  },
  {
   "cell_type": "code",
   "execution_count": 48,
   "metadata": {},
   "outputs": [
    {
     "data": {
      "image/png": "[encoded data removed]",
      "text/plain": [
       "<Figure size 432x288 with 1 Axes>"
      ]
     },
     "metadata": {
      "needs_background": "light"
     },
     "output_type": "display_data"
    }
   ],
   "source": [
    "decisions_nn = NN_clf.predict_proba(X_test)[:,1]\n",
    "decisions_rf = RF_clf.predict_proba(X_test)[:,1]\n",
    "fpr_nn, tpr_nn, thresholds = roc_curve(y_test, decisions_nn)\n",
    "fpr_rf, tpr_rf, thresholds = roc_curve(y_test, decisions_rf)\n",
    "\n",
    "plt.plot(fpr_rf,tpr_rf, label='Random Forest')\n",
    "plt.plot(fpr_nn,tpr_nn, color='r', ls='--', label='Neural Network')\n",
    "plt.plot([0, 1], [0, 1], '--', color=(0.6, 0.6, 0.6), label='Luck')\n",
    "plt.grid()\n",
    "plt.legend()\n",
    "plt.xlabel('False Positive Rate')\n",
    "plt.ylabel('True Positive Rate')\n",
    "plt.show()"
   ]
  },
  {
   "cell_type": "code",
   "execution_count": null,
   "metadata": {},
   "outputs": [],
   "source": []
  }
 ],
 "metadata": {
  "kernelspec": {
   "display_name": "Python 3",
   "language": "python",
   "name": "python3"
  },
  "language_info": {
   "codemirror_mode": {
    "name": "ipython",
    "version": 3
   },
   "file_extension": ".py",
   "mimetype": "text/x-python",
   "name": "python",
   "nbconvert_exporter": "python",
   "pygments_lexer": "ipython3",
   "version": "3.7.3"
  }
 },
 "nbformat": 4,
 "nbformat_minor": 2
}
