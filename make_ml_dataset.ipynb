{
 "cells": [
  {
   "cell_type": "code",
   "execution_count": null,
   "metadata": {},
   "outputs": [],
   "source": [
    "import sys\n",
    "\n",
    "import uproot # for reading .root files\n",
    "import pandas as pd # to store data as dataframe\n",
    "import time # to measure time to analyse\n",
    "import math # for mathematical functions such as square root\n",
    "import numpy as np # # for numerical calculations such as histogramming\n",
    "import matplotlib.pyplot as plt # for plotting\n",
    "from matplotlib.ticker import AutoMinorLocator # for minor ticks\n",
    "import tensorflow as tf\n",
    "from tensorflow import keras\n",
    "\n",
    "import infofile # local file containing info on cross-sections, sums of weights, dataset IDs\n",
    "import functions\n",
    "\n",
    "start = time.time() # time at start of whole processing\n",
    "data = functions.get_data_from_files() # process all files\n",
    "elapsed = time.time() - start # time after whole processing\n",
    "print(\"Time taken: \"+str(round(elapsed,1))+\"s\") # print total time taken to process every file\n",
    "\n",
    "#Background events\n",
    "\n",
    "df_b = data['ZZ']\n",
    "df_b['type'] = 0\n",
    "df_b\n",
    "\n",
    "#Signal events\n",
    "\n",
    "df_s = data['$H \\\\rightarrow ZZ \\\\rightarrow \\\\ell\\\\ell\\\\ell\\\\ell$']\n",
    "df_s['type'] = 1\n",
    "df_s\n",
    "\n",
    "df = pd.concat([df_s, df_b])\n",
    "df = df.sample(frac=1)\n",
    "df.to_pickle('data.pkl')"
   ]
  }
 ],
 "metadata": {
  "kernelspec": {
   "display_name": "Python 3",
   "language": "python",
   "name": "python3"
  },
  "language_info": {
   "codemirror_mode": {
    "name": "ipython",
    "version": 3
   },
   "file_extension": ".py",
   "mimetype": "text/x-python",
   "name": "python",
   "nbconvert_exporter": "python",
   "pygments_lexer": "ipython3",
   "version": "3.7.3"
  }
 },
 "nbformat": 4,
 "nbformat_minor": 2
}
